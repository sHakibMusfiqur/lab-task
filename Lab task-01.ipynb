{
  "nbformat": 4,
  "nbformat_minor": 0,
  "metadata": {
    "colab": {
      "provenance": []
    },
    "kernelspec": {
      "name": "python3",
      "display_name": "Python 3"
    },
    "language_info": {
      "name": "python"
    }
  },
  "cells": [
    {
      "cell_type": "code",
      "execution_count": null,
      "metadata": {
        "colab": {
          "base_uri": "https://localhost:8080/"
        },
        "id": "67LIX0KOxKSW",
        "outputId": "a250cdac-1eb8-4d07-9cae-aab9bfdc9741"
      },
      "outputs": [
        {
          "output_type": "stream",
          "name": "stdout",
          "text": [
            "Hello world! I  Don't give a Bug \n"
          ]
        }
      ],
      "source": [
        "print(\"Hello world! I  Don't give a Bug \")"
      ]
    },
    {
      "cell_type": "code",
      "source": [
        "name = \"Musfiqur Shakib\"\n",
        "print(name)"
      ],
      "metadata": {
        "colab": {
          "base_uri": "https://localhost:8080/"
        },
        "id": "KPa6ebnAyWQu",
        "outputId": "0005c04c-fe64-405f-df2b-7fd94eccc522"
      },
      "execution_count": null,
      "outputs": [
        {
          "output_type": "stream",
          "name": "stdout",
          "text": [
            "Musfiqur Shakib\n"
          ]
        }
      ]
    },
    {
      "cell_type": "code",
      "source": [
        "age = \"24\"\n",
        "salary = \"9995452\"\n",
        "name = \"Musfiqur Shakib\"\n",
        "print(age)\n",
        "print(salary)\n",
        "print(name)"
      ],
      "metadata": {
        "colab": {
          "base_uri": "https://localhost:8080/"
        },
        "id": "lb-MEP5J16_Q",
        "outputId": "db413496-261d-40d1-c8b0-87d0d68e5e81"
      },
      "execution_count": null,
      "outputs": [
        {
          "output_type": "stream",
          "name": "stdout",
          "text": [
            "24\n",
            "9995452\n",
            "Musfiqur Shakib\n"
          ]
        }
      ]
    },
    {
      "cell_type": "code",
      "source": [
        "val = input(\"Enter your value:\")\n",
        "print(val)"
      ],
      "metadata": {
        "colab": {
          "base_uri": "https://localhost:8080/"
        },
        "id": "2Ro2Cj1C8Nu4",
        "outputId": "23c7f61d-3707-407f-9ef6-73d662ec82e8"
      },
      "execution_count": null,
      "outputs": [
        {
          "output_type": "stream",
          "name": "stdout",
          "text": [
            "Enter your value:24\n",
            "24\n"
          ]
        }
      ]
    },
    {
      "cell_type": "code",
      "source": [
        "a = 7\n",
        "b = 5\n",
        "add = a + b\n",
        "sub = a - b\n",
        "mul = a * b\n",
        "mod = a % b\n",
        "p = a ** b\n",
        "print(add)\n",
        "print(sub)\n",
        "print(mul)\n",
        "print(mod)\n",
        "print(p)"
      ],
      "metadata": {
        "colab": {
          "base_uri": "https://localhost:8080/"
        },
        "id": "kmoOzLTt9HnR",
        "outputId": "3b28e283-a706-4114-f0ad-208b8ff332ca"
      },
      "execution_count": null,
      "outputs": [
        {
          "output_type": "stream",
          "name": "stdout",
          "text": [
            "12\n",
            "2\n",
            "35\n",
            "2\n",
            "16807\n"
          ]
        }
      ]
    },
    {
      "cell_type": "code",
      "source": [
        "a = True\n",
        "b = False\n",
        "print(a and b)\n",
        "print(a or b)\n",
        "print(not a)"
      ],
      "metadata": {
        "colab": {
          "base_uri": "https://localhost:8080/"
        },
        "id": "1yLw8EL5-sPs",
        "outputId": "fff09832-6b45-4cee-bf2e-bc5d13a2f66b"
      },
      "execution_count": null,
      "outputs": [
        {
          "output_type": "stream",
          "name": "stdout",
          "text": [
            "False\n",
            "True\n",
            "False\n"
          ]
        }
      ]
    },
    {
      "cell_type": "code",
      "source": [
        "a = 10\n",
        "b = 4\n",
        "print( a & b)\n",
        "print( a | b)\n",
        "print(~a)\n",
        "print( a ^ b)\n",
        "print( a >> 2)\n",
        "print( a << 2)"
      ],
      "metadata": {
        "id": "syH-CVYYAhgi",
        "colab": {
          "base_uri": "https://localhost:8080/"
        },
        "outputId": "8740431a-7610-4bdc-82d9-49cdea34ac98"
      },
      "execution_count": null,
      "outputs": [
        {
          "output_type": "stream",
          "name": "stdout",
          "text": [
            "0\n",
            "14\n",
            "-11\n",
            "14\n",
            "2\n",
            "40\n"
          ]
        }
      ]
    },
    {
      "cell_type": "code",
      "source": [
        "a = 11\n",
        "b = 7\n",
        "b= a\n",
        "print(b)\n",
        "b += a\n",
        "print(b)\n",
        "b -= a\n",
        "print(b)\n",
        "b *= a\n",
        "print(b)\n",
        "b <<= a\n",
        "print(b)"
      ],
      "metadata": {
        "colab": {
          "base_uri": "https://localhost:8080/"
        },
        "id": "kSRSOWjhBzvD",
        "outputId": "791109ef-2176-4204-ce0a-c30d8a53f5ad"
      },
      "execution_count": null,
      "outputs": [
        {
          "output_type": "stream",
          "name": "stdout",
          "text": [
            "11\n",
            "22\n",
            "11\n",
            "121\n",
            "247808\n"
          ]
        }
      ]
    },
    {
      "cell_type": "code",
      "source": [
        "i = 20\n",
        "if (i < 15):\n",
        "  print(\"i is smaller than 15\")\n",
        "  print(\"i'm in if Block\")\n",
        "else:\n",
        "  print(\"i is greater than 15\")\n",
        "  print(\"i'm in else Block\")\n",
        "  print(\"i'm not in if and not in else Block\")"
      ],
      "metadata": {
        "colab": {
          "base_uri": "https://localhost:8080/"
        },
        "id": "DgrngqoDYTBD",
        "outputId": "59d65cfc-14d4-49d3-b6ff-22dea1347c97"
      },
      "execution_count": null,
      "outputs": [
        {
          "output_type": "stream",
          "name": "stdout",
          "text": [
            "i is greater than 15\n",
            "i'm in else Block\n",
            "i'm not in if and not in else Block\n"
          ]
        }
      ]
    },
    {
      "cell_type": "code",
      "source": [
        "i = 20\n",
        "if (i == 10):\n",
        "  print(\"i is 10\")\n",
        "elif(i == 15):\n",
        "  print(\"i is 15\")\n",
        "elif(i == 20):\n",
        "  print(\"i is 20\")\n",
        "else:\n",
        "  print(\"i is not present\")"
      ],
      "metadata": {
        "colab": {
          "base_uri": "https://localhost:8080/"
        },
        "id": "Vc9fR993avhB",
        "outputId": "00c11d7a-a768-4a2d-fd28-326de58343a3"
      },
      "execution_count": null,
      "outputs": [
        {
          "output_type": "stream",
          "name": "stdout",
          "text": [
            "i is 20\n"
          ]
        }
      ]
    },
    {
      "cell_type": "code",
      "source": [
        "for i in range(0, 10, 2):\n",
        "  print(i)"
      ],
      "metadata": {
        "colab": {
          "base_uri": "https://localhost:8080/"
        },
        "id": "vi3Ff-BTclDn",
        "outputId": "83e85332-becf-43f8-c487-896b53fb8525"
      },
      "execution_count": null,
      "outputs": [
        {
          "output_type": "stream",
          "name": "stdout",
          "text": [
            "0\n",
            "2\n",
            "4\n",
            "6\n",
            "8\n"
          ]
        }
      ]
    },
    {
      "cell_type": "code",
      "source": [
        "count = 0\n",
        "while(count < 3):\n",
        "  count = count + 1\n",
        "  print(\"Hello Geek\")"
      ],
      "metadata": {
        "colab": {
          "base_uri": "https://localhost:8080/"
        },
        "id": "lEJbRa8Gc607",
        "outputId": "921889c3-e2c9-4717-db98-fef651353a41"
      },
      "execution_count": null,
      "outputs": [
        {
          "output_type": "stream",
          "name": "stdout",
          "text": [
            "Hello Geek\n",
            "Hello Geek\n",
            "Hello Geek\n"
          ]
        }
      ]
    },
    {
      "cell_type": "code",
      "source": [
        "\n",
        "def evenOdd(x):\n",
        "  if(x % 2 == o):\n",
        "    print(\"even\")\n",
        "  else:\n",
        "    print(\"odd\")"
      ],
      "metadata": {
        "id": "CjUNo5yGfdRn"
      },
      "execution_count": null,
      "outputs": []
    }
  ]
}